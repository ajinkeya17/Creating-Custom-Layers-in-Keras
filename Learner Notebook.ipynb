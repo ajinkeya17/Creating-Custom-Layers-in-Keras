{
 "cells": [
  {
   "cell_type": "markdown",
   "metadata": {},
   "source": [
    "# Custom Layers in Keras"
   ]
  },
  {
   "cell_type": "markdown",
   "metadata": {},
   "source": [
    "# Task 1: Importing Libraries"
   ]
  },
  {
   "cell_type": "code",
   "execution_count": 6,
   "metadata": {},
   "outputs": [
    {
     "name": "stdout",
     "output_type": "stream",
     "text": [
      "TensorFlow Version: 2.0.0-beta1\n"
     ]
    }
   ],
   "source": [
    "import tensorflow as tf\n",
    "import utils\n",
    "import matplotlib.pyplot as plt\n",
    "%matplotlib inline\n",
    "import numpy as np\n",
    "print('TensorFlow Version:', tf.__version__)"
   ]
  },
  {
   "cell_type": "markdown",
   "metadata": {},
   "source": [
    "# Task 2: Import and Visualize Dataset"
   ]
  },
  {
   "cell_type": "code",
   "execution_count": 9,
   "metadata": {},
   "outputs": [],
   "source": [
    "#instead of below two cells can directly do (x_train, y_train), (x_test, y_test)=utils.load_data()\n",
    "(x_train, y_train), (x_test, y_test) = tf.keras.datasets.mnist.load_data()"
   ]
  },
  {
   "cell_type": "code",
   "execution_count": 10,
   "metadata": {},
   "outputs": [
    {
     "name": "stdout",
     "output_type": "stream",
     "text": [
      "(60000, 28, 28)\n",
      "(60000, 784)\n"
     ]
    }
   ],
   "source": [
    "print(x_train.shape)\n",
    "x_train = np.reshape(x_train, (x_train.shape[0], 784))/255. #the pixel values are normalized,each row represnts one image\n",
    "print(x_train.shape)\n",
    "x_test = np.reshape(x_test, (x_test.shape[0], 784))/255.\n",
    "y_train = tf.keras.utils.to_categorical(y_train)  #one hot encoding\n",
    "y_test = tf.keras.utils.to_categorical(y_test)"
   ]
  },
  {
   "cell_type": "code",
   "execution_count": 11,
   "metadata": {
    "collapsed": true
   },
   "outputs": [],
   "source": [
    "#instead of below two cells can directly do utils.plot_random_exapmles(x_train,y_train).show()\n",
    "def plot_random_examples(x, y, p=None):\n",
    "    indices = np.random.choice(range(0, x.shape[0]), 10)\n",
    "    y = np.argmax(y, axis=1)\n",
    "    if p is None:\n",
    "        p = y\n",
    "    plt.figure(figsize=(10, 5))\n",
    "    for i, index in enumerate(indices):\n",
    "        plt.subplot(2, 5, i+1)\n",
    "        plt.imshow(x[index].reshape((28, 28)), cmap='binary')\n",
    "        plt.xticks([])\n",
    "        plt.yticks([])\n",
    "        if y[index] == p[index]:\n",
    "            col = 'g'\n",
    "        else:\n",
    "            col = 'r'\n",
    "        plt.xlabel(str(p[index]), color=col)\n",
    "    return plt"
   ]
  },
  {
   "cell_type": "code",
   "execution_count": 12,
   "metadata": {},
   "outputs": [
    {
     "data": {
      "text/plain": [
       "<module 'matplotlib.pyplot' from 'C:\\\\Users\\\\Ajinkeya\\\\Anaconda3\\\\lib\\\\site-packages\\\\matplotlib\\\\pyplot.py'>"
      ]
     },
     "execution_count": 12,
     "metadata": {},
     "output_type": "execute_result"
    },
    {
     "data": {
      "image/png": "[encoded data removed]",
      "text/plain": [
       "<matplotlib.figure.Figure at 0x274cb96c828>"
      ]
     },
     "metadata": {},
     "output_type": "display_data"
    }
   ],
   "source": [
    "plot_random_examples(x_train,y_train) #p=y_train "
   ]
  },
  {
   "cell_type": "markdown",
   "metadata": {},
   "source": [
    "# Task 3: Creating a Custom Layer"
   ]
  },
  {
   "cell_type": "code",
   "execution_count": 16,
   "metadata": {
    "collapsed": true
   },
   "outputs": [],
   "source": [
    "#to create a custom activation layer must create it as a child class of keras class\n",
    "#we want to create a parametric relu layer,in normal leku relu layer parameter alpha is set but in parametric relu the alpha is learnt.\n",
    "#need to implement three functions:\n",
    "#1) build:define any trainable weights\n",
    "#2) call:logic of Custoom Layer\n",
    "#3) compute output shape:transformation logic of layers for any change in shape happening in layer\n",
    "\n",
    "class ParametricRelu(tf.keras.layers.Layer):\n",
    "    def __init__(self, **kwargs):  #we wont set any initial value for variables i.e. alpha\n",
    "        super(ParametricRelu, self).__init__(**kwargs)\n",
    "        \n",
    "    def build(self, input_shape):\n",
    "        self.alpha=self.add_weight(     #trainable parameter\n",
    "          name='alpha',shape=(1,),       #(1,) means same alpha value for each node of the layer, if wwe want different alpha values for each node of the layer then shape=(input_shape[1],) where input_shape[0] is no of exsmples and 1 is no of nodes\n",
    "          initializer='zeros',         #all nodes given initial value 0\n",
    "          trainable='True'  )\n",
    "        super(ParametricRelu, self).build(input_shape)  #call build fuunction on superclass\n",
    "        \n",
    "    def call(self, x):\n",
    "        return tf.maximum(0., x) + self.alpha*tf.minimum(0., x) #first term is for positive x values and second term for negative x values\n",
    "    "
   ]
  },
  {
   "cell_type": "markdown",
   "metadata": {},
   "source": [
    "# Task 4: Creating the Model"
   ]
  },
  {
   "cell_type": "code",
   "execution_count": 18,
   "metadata": {},
   "outputs": [
    {
     "name": "stdout",
     "output_type": "stream",
     "text": [
      "WARNING:tensorflow:Entity <bound method ParametricRelu.call of <__main__.ParametricRelu object at 0x00000274CB98FD30>> could not be transformed and will be executed as-is. Please report this to the AutoGraph team. When filing the bug, set the verbosity to 10 (on Linux, `export AUTOGRAPH_VERBOSITY=10`) and attach the full output. Cause: converting <bound method ParametricRelu.call of <__main__.ParametricRelu object at 0x00000274CB98FD30>>: AssertionError: Bad argument number for Name: 3, expecting 4\n",
      "WARNING: Entity <bound method ParametricRelu.call of <__main__.ParametricRelu object at 0x00000274CB98FD30>> could not be transformed and will be executed as-is. Please report this to the AutoGraph team. When filing the bug, set the verbosity to 10 (on Linux, `export AUTOGRAPH_VERBOSITY=10`) and attach the full output. Cause: converting <bound method ParametricRelu.call of <__main__.ParametricRelu object at 0x00000274CB98FD30>>: AssertionError: Bad argument number for Name: 3, expecting 4\n",
      "Model: \"sequential_2\"\n",
      "_________________________________________________________________\n",
      "Layer (type)                 Output Shape              Param #   \n",
      "=================================================================\n",
      "dense_2 (Dense)              (None, 64)                50240     \n",
      "_________________________________________________________________\n",
      "parametric_relu_2 (Parametri (None, 64)                1         \n",
      "_________________________________________________________________\n",
      "dense_3 (Dense)              (None, 10)                650       \n",
      "=================================================================\n",
      "Total params: 50,891\n",
      "Trainable params: 50,891\n",
      "Non-trainable params: 0\n",
      "_________________________________________________________________\n"
     ]
    }
   ],
   "source": [
    "def create_model(use_prelu=True):\n",
    "    model=tf.keras.models.Sequential()\n",
    "    #layer 1 with 64 nodes\n",
    "    model.add(tf.keras.layers.Dense(64, input_shape=(784,)))\n",
    "    #activation of layer 1\n",
    "    if use_prelu:\n",
    "        model.add(ParametricRelu())\n",
    "    else:\n",
    "        model.add(tf.keras.layers.ReLU())\n",
    "    #output layer with 10 nodes\n",
    "    model.add(tf.keras.layers.Dense(10, activation='softmax'))\n",
    "    model.compile(loss='categorical_crossentropy',optimizer='adam',metrics=['accuracy'])\n",
    "    return model\n",
    "model=create_model()\n",
    "model.summary()"
   ]
  },
  {
   "cell_type": "markdown",
   "metadata": {},
   "source": [
    "# Task 5: Model Training"
   ]
  },
  {
   "cell_type": "code",
   "execution_count": 20,
   "metadata": {},
   "outputs": [
    {
     "name": "stdout",
     "output_type": "stream",
     "text": [
      "Initial alpha:  [array([0.], dtype=float32)]\n",
      "WARNING:tensorflow:From C:\\Users\\Ajinkeya\\Anaconda3\\lib\\site-packages\\tensorflow\\python\\ops\\math_grad.py:1250: add_dispatch_support.<locals>.wrapper (from tensorflow.python.ops.array_ops) is deprecated and will be removed in a future version.\n",
      "Instructions for updating:\n",
      "Use tf.where in 2.0, which has the same broadcast rule as np.where\n",
      "Train on 60000 samples, validate on 10000 samples\n",
      "Epoch 1/5\n",
      "60000/60000 [==============================] - 59s 983us/sample - loss: 0.2922 - accuracy: 0.9179 - val_loss: 0.1448 - val_accuracy: 0.9576\n",
      "Epoch 2/5\n",
      "60000/60000 [==============================] - 28s 459us/sample - loss: 0.1226 - accuracy: 0.9636 - val_loss: 0.1071 - val_accuracy: 0.9678\n",
      "Epoch 3/5\n",
      "60000/60000 [==============================] - 28s 470us/sample - loss: 0.0857 - accuracy: 0.9743 - val_loss: 0.1022 - val_accuracy: 0.9688\n",
      "Epoch 4/5\n",
      "60000/60000 [==============================] - 28s 464us/sample - loss: 0.0675 - accuracy: 0.9794 - val_loss: 0.0969 - val_accuracy: 0.9695\n",
      "Epoch 5/5\n",
      "60000/60000 [==============================] - 27s 453us/sample - loss: 0.0544 - accuracy: 0.9832 - val_loss: 0.0865 - val_accuracy: 0.9727\n"
     ]
    }
   ],
   "source": [
    "print('Initial alpha: ',model.layers[1].get_weights())\n",
    "\n",
    "h=model.fit(\n",
    "    x_train,y_train,\n",
    "    validation_data=(x_test,y_test),\n",
    "    epochs=5\n",
    ")"
   ]
  },
  {
   "cell_type": "code",
   "execution_count": 21,
   "metadata": {},
   "outputs": [
    {
     "name": "stdout",
     "output_type": "stream",
     "text": [
      "Final alpha:  [array([-0.9203072], dtype=float32)]\n"
     ]
    }
   ],
   "source": [
    "print('Final alpha: ',model.layers[1].get_weights())\n",
    "#thus if x>0 then y=x and if x<0 then also y is >0 and nearly =|x|"
   ]
  },
  {
   "cell_type": "code",
   "execution_count": 23,
   "metadata": {},
   "outputs": [
    {
     "data": {
      "text/plain": [
       "<matplotlib.legend.Legend at 0x274e6e9e278>"
      ]
     },
     "execution_count": 23,
     "metadata": {},
     "output_type": "execute_result"
    },
    {
     "data": {
      "image/png": "[encoded data removed]",
      "text/plain": [
       "<matplotlib.figure.Figure at 0x274cb9d10b8>"
      ]
     },
     "metadata": {},
     "output_type": "display_data"
    }
   ],
   "source": [
    "history = h.history\n",
    "plt.figure(figsize=(12, 4))\n",
    "epochs = len(history['val_loss'])\n",
    "plt.subplot(1, 2, 1)\n",
    "plt.plot(range(epochs), history['val_loss'], label='Val Loss')\n",
    "plt.plot(range(epochs), history['loss'], label='Train Loss')\n",
    "plt.xticks(list(range(epochs)))\n",
    "plt.xlabel('Epochs')\n",
    "plt.ylabel('Loss')\n",
    "plt.legend()\n",
    "plt.subplot(1, 2, 2)\n",
    "plt.plot(range(epochs), history['val_accuracy'], label='Val Acc')\n",
    "plt.plot(range(epochs), history['accuracy'], label='Acc')\n",
    "plt.xticks(list(range(epochs)))\n",
    "plt.xlabel('Epochs')\n",
    "plt.ylabel('Accuracy')\n",
    "plt.legend()"
   ]
  },
  {
   "cell_type": "markdown",
   "metadata": {},
   "source": [
    "# Task 6: Comparison with ReLU"
   ]
  },
  {
   "cell_type": "code",
   "execution_count": 24,
   "metadata": {},
   "outputs": [
    {
     "name": "stdout",
     "output_type": "stream",
     "text": [
      "Model: \"sequential_3\"\n",
      "_________________________________________________________________\n",
      "Layer (type)                 Output Shape              Param #   \n",
      "=================================================================\n",
      "dense_4 (Dense)              (None, 64)                50240     \n",
      "_________________________________________________________________\n",
      "re_lu (ReLU)                 (None, 64)                0         \n",
      "_________________________________________________________________\n",
      "dense_5 (Dense)              (None, 10)                650       \n",
      "=================================================================\n",
      "Total params: 50,890\n",
      "Trainable params: 50,890\n",
      "Non-trainable params: 0\n",
      "_________________________________________________________________\n"
     ]
    }
   ],
   "source": [
    "model=create_model(use_prelu=False)\n",
    "model.summary()\n",
    "#no trainable parameteer in Relu layer"
   ]
  },
  {
   "cell_type": "code",
   "execution_count": 25,
   "metadata": {},
   "outputs": [
    {
     "name": "stdout",
     "output_type": "stream",
     "text": [
      "Train on 60000 samples, validate on 10000 samples\n",
      "Epoch 1/5\n",
      "60000/60000 [==============================] - 38s 640us/sample - loss: 0.2952 - accuracy: 0.9164 - val_loss: 0.1686 - val_accuracy: 0.9508\n",
      "Epoch 2/5\n",
      "60000/60000 [==============================] - 32s 529us/sample - loss: 0.1419 - accuracy: 0.9581 - val_loss: 0.1353 - val_accuracy: 0.9591\n",
      "Epoch 3/5\n",
      "60000/60000 [==============================] - 26s 441us/sample - loss: 0.1053 - accuracy: 0.9687 - val_loss: 0.1085 - val_accuracy: 0.9668\n",
      "Epoch 4/5\n",
      "60000/60000 [==============================] - 21s 358us/sample - loss: 0.0837 - accuracy: 0.9744 - val_loss: 0.1036 - val_accuracy: 0.9710\n",
      "Epoch 5/5\n",
      "60000/60000 [==============================] - 27s 452us/sample - loss: 0.0694 - accuracy: 0.9790 - val_loss: 0.0940 - val_accuracy: 0.9713\n"
     ]
    }
   ],
   "source": [
    "h=model.fit(x_train,y_train,\n",
    "           validation_data=(x_test,y_test),\n",
    "           epochs=5)"
   ]
  },
  {
   "cell_type": "code",
   "execution_count": 26,
   "metadata": {},
   "outputs": [
    {
     "data": {
      "text/plain": [
       "<matplotlib.legend.Legend at 0x274ce80cf28>"
      ]
     },
     "execution_count": 26,
     "metadata": {},
     "output_type": "execute_result"
    },
    {
     "data": {
      "image/png": "[encoded data removed]",
      "text/plain": [
       "<matplotlib.figure.Figure at 0x274cccffef0>"
      ]
     },
     "metadata": {},
     "output_type": "display_data"
    }
   ],
   "source": [
    "history = h.history\n",
    "plt.figure(figsize=(12, 4))\n",
    "epochs = len(history['val_loss'])\n",
    "plt.subplot(1, 2, 1)\n",
    "plt.plot(range(epochs), history['val_loss'], label='Val Loss')\n",
    "plt.plot(range(epochs), history['loss'], label='Train Loss')\n",
    "plt.xticks(list(range(epochs)))\n",
    "plt.xlabel('Epochs')\n",
    "plt.ylabel('Loss')\n",
    "plt.legend()\n",
    "plt.subplot(1, 2, 2)\n",
    "plt.plot(range(epochs), history['val_accuracy'], label='Val Acc')\n",
    "plt.plot(range(epochs), history['accuracy'], label='Acc')\n",
    "plt.xticks(list(range(epochs)))\n",
    "plt.xlabel('Epochs')\n",
    "plt.ylabel('Accuracy')\n",
    "plt.legend()"
   ]
  },
  {
   "cell_type": "code",
   "execution_count": 34,
   "metadata": {
    "collapsed": true
   },
   "outputs": [],
   "source": [
    "def show_random_examples(x, y, p):   #x,y are inputs and p is prediciton if any\n",
    "    indices=np.random.choice(range(x.shape[0]), 10, replace=False)  #we only want 10 random examples from list of all indices and they will be unique \n",
    "    \n",
    "    x=x[indices]\n",
    "    y=y[indices]\n",
    "    p=p[indices]\n",
    "    \n",
    "    plt.figure(figsize=(10,5))\n",
    "    \n",
    "    for i in range(10):\n",
    "        plt.subplot(2,5,i+1)\n",
    "        plt.imshow(x[i].reshape(28,28),cmap='binary')\n",
    "        plt.xticks([])\n",
    "        plt.yticks([])\n",
    "        #color of label green if prediction right else red\n",
    "        col='green' if np.argmax(y[i])==np.argmax(p[i]) else 'red'  #np.argmax will reurn 0,1 or 2 from one hot econded format of each label indicating which of the three classes it is\n",
    "        plt.xlabel(np.argmax(y[i]),color=col)\n",
    "    plt.show()   "
   ]
  },
  {
   "cell_type": "code",
   "execution_count": 36,
   "metadata": {},
   "outputs": [
    {
     "data": {
      "image/png": "[encoded data removed]",
      "text/plain": [
       "<matplotlib.figure.Figure at 0x274cf110fd0>"
      ]
     },
     "metadata": {},
     "output_type": "display_data"
    }
   ],
   "source": [
    "show_random_examples(x_test,y_test,p=model.predict(x_test))"
   ]
  },
  {
   "cell_type": "code",
   "execution_count": null,
   "metadata": {
    "collapsed": true
   },
   "outputs": [],
   "source": []
  }
 ],
 "metadata": {
  "kernelspec": {
   "display_name": "Python 3",
   "language": "python",
   "name": "python3"
  },
  "language_info": {
   "codemirror_mode": {
    "name": "ipython",
    "version": 3
   },
   "file_extension": ".py",
   "mimetype": "text/x-python",
   "name": "python",
   "nbconvert_exporter": "python",
   "pygments_lexer": "ipython3",
   "version": "3.6.3"
  }
 },
 "nbformat": 4,
 "nbformat_minor": 2
}
